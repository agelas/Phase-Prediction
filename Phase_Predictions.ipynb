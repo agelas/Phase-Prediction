{
 "cells": [
  {
   "cell_type": "code",
   "execution_count": 1,
   "metadata": {
    "execution": {
     "iopub.execute_input": "2022-01-20T13:37:54.286702Z",
     "iopub.status.busy": "2022-01-20T13:37:54.285154Z",
     "iopub.status.idle": "2022-01-20T13:38:04.317311Z",
     "shell.execute_reply": "2022-01-20T13:38:04.315716Z"
    }
   },
   "outputs": [],
   "source": [
    "import pandas as pd\n",
    "import matplotlib.pyplot as plt\n",
    "import numpy as np\n",
    "from sklearn.impute import SimpleImputer\n",
    "from sklearn.preprocessing import OneHotEncoder, MultiLabelBinarizer, LabelBinarizer\n",
    "from sklearn.base import BaseEstimator, TransformerMixin\n",
    "from sklearn.pipeline import Pipeline\n",
    "from sklearn.compose import ColumnTransformer\n",
    "from sklearn.model_selection import train_test_split\n",
    "import tensorflow as tf\n",
    "from tensorflow import keras\n",
    "from tensorflow.keras import layers\n",
    "from tensorflow.keras import Model"
   ]
  },
  {
   "cell_type": "code",
   "execution_count": 2,
   "metadata": {
    "execution": {
     "iopub.execute_input": "2022-01-20T13:38:04.330873Z",
     "iopub.status.busy": "2022-01-20T13:38:04.329338Z",
     "iopub.status.idle": "2022-01-20T13:38:04.635410Z",
     "shell.execute_reply": "2022-01-20T13:38:04.634125Z"
    }
   },
   "outputs": [
    {
     "name": "stdout",
     "output_type": "stream",
     "text": [
      "<class 'pandas.core.frame.DataFrame'>\n",
      "RangeIndex: 47412 entries, 0 to 47411\n",
      "Data columns (total 18 columns):\n",
      " #   Column        Non-Null Count  Dtype  \n",
      "---  ------        --------------  -----  \n",
      " 0   el0           47412 non-null  object \n",
      " 1   el1           47412 non-null  object \n",
      " 2   el2           47412 non-null  object \n",
      " 3   el3           47412 non-null  object \n",
      " 4   x0            47412 non-null  float64\n",
      " 5   x1            47412 non-null  float64\n",
      " 6   x2            47412 non-null  float64\n",
      " 7   x3            47412 non-null  float64\n",
      " 8   phase_1_name  47412 non-null  object \n",
      " 9   phase_2_name  19198 non-null  object \n",
      " 10  phase_3_name  4822 non-null   object \n",
      " 11  phase_4_name  585 non-null    object \n",
      " 12  phase_5_name  3 non-null      object \n",
      " 13  phase_1_frac  47412 non-null  float64\n",
      " 14  phase_2_frac  19198 non-null  float64\n",
      " 15  phase_3_frac  4822 non-null   float64\n",
      " 16  phase_4_frac  585 non-null    float64\n",
      " 17  phase_5_frac  3 non-null      float64\n",
      "dtypes: float64(9), object(9)\n",
      "memory usage: 6.5+ MB\n"
     ]
    },
    {
     "name": "stderr",
     "output_type": "stream",
     "text": [
      "/home/idies/miniconda3/envs/py38/lib/python3.8/site-packages/IPython/core/interactiveshell.py:3146: DtypeWarning: Columns (12) have mixed types.Specify dtype option on import or set low_memory=False.\n",
      "  has_raised = await self.run_ast_nodes(code_ast.body, cell_name,\n"
     ]
    }
   ],
   "source": [
    "phase_data_full = pd.read_csv('/home/idies/workspace/Storage/matsdata/persistent/Phase_Calc_Data.csv')\n",
    "phase_data_full.info()"
   ]
  },
  {
   "cell_type": "markdown",
   "metadata": {},
   "source": [
    "## Data Cleaning/Transformations\n",
    "\n",
    "### Cleaning the Data:\n",
    "There are a few attributes of the dataset that aren't particularly relevant/useful, and those are the phase_x_fracs. It doesn't really matter how much of each phase is present, when all I really care about is which phases are present. Also, not all combinations of elements yield 3, 4, or 5 phases in equilibrium, so those need to be filled in wth 'none'.\n",
    "\n",
    "### Transforming the Data:\n",
    "I plan to have each node in the input layer of my neural network correspond to the amount of one of the 10 possible elements that show up in the dataset. Some Pandas magic needs to happen so that the column elements are reformatted to fit the above description.\n",
    "\n",
    "Once the dataset is all nice and formatted, the dataset is split into a train set and test set. These are turned into more tensorflow friendly formats using from_tensor_slices() from tf.data.Dataset, before finally getting batched."
   ]
  },
  {
   "cell_type": "code",
   "execution_count": 3,
   "metadata": {
    "execution": {
     "iopub.execute_input": "2022-01-20T13:38:04.651356Z",
     "iopub.status.busy": "2022-01-20T13:38:04.650125Z",
     "iopub.status.idle": "2022-01-20T13:38:04.656319Z",
     "shell.execute_reply": "2022-01-20T13:38:04.655118Z"
    }
   },
   "outputs": [],
   "source": [
    "# Class definitions for data cleaning pipeline\n",
    "\n",
    "class dropAttributes(BaseEstimator, TransformerMixin):\n",
    "    def __init__(self, drop_phase_fracs = True): # no *args or **kwargs\n",
    "        self.drop_phase_fracs = drop_phase_fracs\n",
    "    def fit(self, X, y=None):\n",
    "        return self # nothing else to do\n",
    "    def transform(self, X):\n",
    "        if self.drop_phase_fracs:\n",
    "            X.drop(X.iloc[:, 13:18], inplace = True, axis = 1) #drop all phase_{x}_frac\n",
    "            return X\n",
    "        else:\n",
    "            return X\n",
    "        \n",
    "class cleanupNan(BaseEstimator, TransformerMixin):\n",
    "    def __init__(self, dropped_phase_fracs = True):\n",
    "        self.dropped_phase_fracs = dropped_phase_fracs\n",
    "    def fit(self, X, y=None):\n",
    "        return self\n",
    "    def transform(self, X):\n",
    "        X.fillna('none', inplace = True)\n",
    "        return X"
   ]
  },
  {
   "cell_type": "code",
   "execution_count": 4,
   "metadata": {
    "execution": {
     "iopub.execute_input": "2022-01-20T13:38:04.674696Z",
     "iopub.status.busy": "2022-01-20T13:38:04.673403Z",
     "iopub.status.idle": "2022-01-20T13:38:04.819660Z",
     "shell.execute_reply": "2022-01-20T13:38:04.817574Z"
    }
   },
   "outputs": [
    {
     "name": "stdout",
     "output_type": "stream",
     "text": [
      "Elements list: ['AL', 'FE', 'MN', 'NB', 'NI', 'TA', 'V', 'MO', 'CR', 'TI']\n",
      "Features list: ['LIQUID', 'AL3M_D022', 'AL2TI', 'ALTI', 'ALM_D019', 'HCP_A3', 'AL11CR2', 'BCC_B2', 'AL9CR4_L', 'AL8CR5_L', 'ALCR2', 'AL4CR', 'CUB_A15', 'AL4MO', 'AL8MO3', 'FCC_A1', 'LAVES_C15', 'LAVES_C14', 'FETI', 'AL2FE', 'AL5FE2', 'AL13FE4', 'AL5MO', 'CR3SI_A15', 'SIGMA', 'CUB_A13', 'CBCC_A12', 'CR3MN5', 'AL8MN5_D810', 'AL11MN4', 'AL4MN', 'CRSI2', 'AL6MN', 'ALPHA_TIMN', 'AL3TA2_L', 'NI2V', 'NI3V', 'NI2V7', 'AL13CR2']\n"
     ]
    },
    {
     "data": {
      "text/html": [
       "<div>\n",
       "<style scoped>\n",
       "    .dataframe tbody tr th:only-of-type {\n",
       "        vertical-align: middle;\n",
       "    }\n",
       "\n",
       "    .dataframe tbody tr th {\n",
       "        vertical-align: top;\n",
       "    }\n",
       "\n",
       "    .dataframe thead th {\n",
       "        text-align: right;\n",
       "    }\n",
       "</style>\n",
       "<table border=\"1\" class=\"dataframe\">\n",
       "  <thead>\n",
       "    <tr style=\"text-align: right;\">\n",
       "      <th></th>\n",
       "      <th>el0</th>\n",
       "      <th>el1</th>\n",
       "      <th>el2</th>\n",
       "      <th>el3</th>\n",
       "      <th>x0</th>\n",
       "      <th>x1</th>\n",
       "      <th>x2</th>\n",
       "      <th>x3</th>\n",
       "      <th>phase_1_name</th>\n",
       "      <th>phase_2_name</th>\n",
       "      <th>phase_3_name</th>\n",
       "      <th>phase_4_name</th>\n",
       "      <th>phase_5_name</th>\n",
       "    </tr>\n",
       "  </thead>\n",
       "  <tbody>\n",
       "    <tr>\n",
       "      <th>0</th>\n",
       "      <td>AL</td>\n",
       "      <td>MO</td>\n",
       "      <td>CR</td>\n",
       "      <td>TI</td>\n",
       "      <td>0.9</td>\n",
       "      <td>0.0</td>\n",
       "      <td>0.0</td>\n",
       "      <td>0.1</td>\n",
       "      <td>LIQUID</td>\n",
       "      <td>AL3M_D022</td>\n",
       "      <td>none</td>\n",
       "      <td>none</td>\n",
       "      <td>none</td>\n",
       "    </tr>\n",
       "    <tr>\n",
       "      <th>1</th>\n",
       "      <td>AL</td>\n",
       "      <td>MO</td>\n",
       "      <td>CR</td>\n",
       "      <td>TI</td>\n",
       "      <td>0.8</td>\n",
       "      <td>0.0</td>\n",
       "      <td>0.0</td>\n",
       "      <td>0.2</td>\n",
       "      <td>LIQUID</td>\n",
       "      <td>AL3M_D022</td>\n",
       "      <td>none</td>\n",
       "      <td>none</td>\n",
       "      <td>none</td>\n",
       "    </tr>\n",
       "    <tr>\n",
       "      <th>2</th>\n",
       "      <td>AL</td>\n",
       "      <td>MO</td>\n",
       "      <td>CR</td>\n",
       "      <td>TI</td>\n",
       "      <td>0.7</td>\n",
       "      <td>0.0</td>\n",
       "      <td>0.0</td>\n",
       "      <td>0.3</td>\n",
       "      <td>AL3M_D022</td>\n",
       "      <td>AL2TI</td>\n",
       "      <td>none</td>\n",
       "      <td>none</td>\n",
       "      <td>none</td>\n",
       "    </tr>\n",
       "    <tr>\n",
       "      <th>3</th>\n",
       "      <td>AL</td>\n",
       "      <td>MO</td>\n",
       "      <td>CR</td>\n",
       "      <td>TI</td>\n",
       "      <td>0.6</td>\n",
       "      <td>0.0</td>\n",
       "      <td>0.0</td>\n",
       "      <td>0.4</td>\n",
       "      <td>AL2TI</td>\n",
       "      <td>ALTI</td>\n",
       "      <td>none</td>\n",
       "      <td>none</td>\n",
       "      <td>none</td>\n",
       "    </tr>\n",
       "    <tr>\n",
       "      <th>4</th>\n",
       "      <td>AL</td>\n",
       "      <td>MO</td>\n",
       "      <td>CR</td>\n",
       "      <td>TI</td>\n",
       "      <td>0.5</td>\n",
       "      <td>0.0</td>\n",
       "      <td>0.0</td>\n",
       "      <td>0.5</td>\n",
       "      <td>ALTI</td>\n",
       "      <td>none</td>\n",
       "      <td>none</td>\n",
       "      <td>none</td>\n",
       "      <td>none</td>\n",
       "    </tr>\n",
       "  </tbody>\n",
       "</table>\n",
       "</div>"
      ],
      "text/plain": [
       "  el0 el1 el2 el3   x0   x1   x2   x3 phase_1_name phase_2_name phase_3_name  \\\n",
       "0  AL  MO  CR  TI  0.9  0.0  0.0  0.1       LIQUID    AL3M_D022         none   \n",
       "1  AL  MO  CR  TI  0.8  0.0  0.0  0.2       LIQUID    AL3M_D022         none   \n",
       "2  AL  MO  CR  TI  0.7  0.0  0.0  0.3    AL3M_D022        AL2TI         none   \n",
       "3  AL  MO  CR  TI  0.6  0.0  0.0  0.4        AL2TI         ALTI         none   \n",
       "4  AL  MO  CR  TI  0.5  0.0  0.0  0.5         ALTI         none         none   \n",
       "\n",
       "  phase_4_name phase_5_name  \n",
       "0         none         none  \n",
       "1         none         none  \n",
       "2         none         none  \n",
       "3         none         none  \n",
       "4         none         none  "
      ]
     },
     "execution_count": 1,
     "metadata": {},
     "output_type": "execute_result"
    }
   ],
   "source": [
    "# The lists of columns that will be used for ColumnTransformer\n",
    "all_attribs = list(phase_data_full)\n",
    "feature_attribs = ['el0', 'el1', 'el2', 'el3']\n",
    "label_attribs = ['phase_1_name', 'phase_2_name', 'phase_3_name', 'phase_4_name', 'phase_5_name']\n",
    "\n",
    "# Get the unique feature categories\n",
    "unique_features_list = pd.unique(phase_data_full[feature_attribs].values.ravel('K')).tolist()\n",
    "print('Elements list:', unique_features_list)\n",
    "\n",
    "# Get the unique labels for LabelBinarizer()\n",
    "unique_labels = pd.unique(phase_data_full[label_attribs].values.ravel('K'))\n",
    "unique_labels_list = unique_labels.tolist()\n",
    "cleaned_unique_labels_list = [x for x in unique_labels_list if x == x]\n",
    "print('Features list:', cleaned_unique_labels_list)\n",
    "      \n",
    "clean_pipeline = Pipeline([\n",
    "    ('dropper', dropAttributes()),\n",
    "    ('cleaner', cleanupNan()),\n",
    "])\n",
    "\n",
    "phase_data_clean = clean_pipeline.fit_transform(phase_data_full)\n",
    "phase_data_clean.head(5)"
   ]
  },
  {
   "cell_type": "code",
   "execution_count": 5,
   "metadata": {
    "execution": {
     "iopub.execute_input": "2022-01-20T13:38:04.830693Z",
     "iopub.status.busy": "2022-01-20T13:38:04.829111Z",
     "iopub.status.idle": "2022-01-20T13:38:04.839512Z",
     "shell.execute_reply": "2022-01-20T13:38:04.838518Z"
    }
   },
   "outputs": [],
   "source": [
    "data_copy = phase_data_clean.copy()"
   ]
  },
  {
   "cell_type": "code",
   "execution_count": 6,
   "metadata": {
    "execution": {
     "iopub.execute_input": "2022-01-20T13:38:04.849655Z",
     "iopub.status.busy": "2022-01-20T13:38:04.848428Z",
     "iopub.status.idle": "2022-01-20T13:38:05.778579Z",
     "shell.execute_reply": "2022-01-20T13:38:05.777155Z"
    }
   },
   "outputs": [],
   "source": [
    "#Rearrange dataframe to be more compatible with models.\n",
    "base_df = data_copy.iloc[:, 0:8] #the columns el0 to x3\n",
    "rearranged_features = pd.wide_to_long(base_df.reset_index(), ['el', 'x'], 'index', 'No')\\\n",
    ".reset_index(level=1, drop=True)\\\n",
    ".set_index('el', append=True)['x']\\\n",
    ".unstack()\\\n",
    ".fillna(0.0)"
   ]
  },
  {
   "cell_type": "code",
   "execution_count": 7,
   "metadata": {
    "execution": {
     "iopub.execute_input": "2022-01-20T13:38:05.799832Z",
     "iopub.status.busy": "2022-01-20T13:38:05.798611Z",
     "iopub.status.idle": "2022-01-20T13:38:05.851782Z",
     "shell.execute_reply": "2022-01-20T13:38:05.852735Z"
    }
   },
   "outputs": [
    {
     "data": {
      "text/plain": [
       "array(['AL11CR2', 'AL11MN4', 'AL13CR2', 'AL13FE4', 'AL2FE', 'AL2TI',\n",
       "       'AL3M_D022', 'AL3TA2_L', 'AL4CR', 'AL4MN', 'AL4MO', 'AL5FE2',\n",
       "       'AL5MO', 'AL6MN', 'AL8CR5_L', 'AL8MN5_D810', 'AL8MO3', 'AL9CR4_L',\n",
       "       'ALCR2', 'ALM_D019', 'ALPHA_TIMN', 'ALTI', 'BCC_B2', 'CBCC_A12',\n",
       "       'CR3MN5', 'CR3SI_A15', 'CRSI2', 'CUB_A13', 'CUB_A15', 'FCC_A1',\n",
       "       'FETI', 'HCP_A3', 'LAVES_C14', 'LAVES_C15', 'LIQUID', 'NI2V',\n",
       "       'NI2V7', 'NI3V', 'SIGMA', 'none'], dtype='<U11')"
      ]
     },
     "execution_count": 1,
     "metadata": {},
     "output_type": "execute_result"
    }
   ],
   "source": [
    "phase_label_data = data_copy[label_attribs].copy()\n",
    "unique_labels = pd.unique(phase_label_data[label_attribs].values.ravel('K')).tolist()\n",
    "cleaned_unique_labels = [x for x in unique_labels if x == x] #take advantage of fact that nan == nan evals to false\n",
    "\n",
    "# Fit label binarizer to the phase names\n",
    "lb = LabelBinarizer()\n",
    "lb.fit(cleaned_unique_labels)\n",
    "lb.classes_"
   ]
  },
  {
   "cell_type": "code",
   "execution_count": 8,
   "metadata": {
    "execution": {
     "iopub.execute_input": "2022-01-20T13:38:05.912974Z",
     "iopub.status.busy": "2022-01-20T13:38:05.863952Z",
     "iopub.status.idle": "2022-01-20T13:38:07.729354Z",
     "shell.execute_reply": "2022-01-20T13:38:07.727750Z"
    }
   },
   "outputs": [],
   "source": [
    "phase_1_data = phase_label_data['phase_1_name']\n",
    "phase_1_data.columns = 'phase1'\n",
    "\n",
    "phase_2_data = phase_label_data['phase_2_name']\n",
    "phase_2_data.columns = 'phase2'\n",
    "\n",
    "phase_3_data = phase_label_data['phase_3_name']\n",
    "phase_3_data.columns = 'phase3'\n",
    "\n",
    "phase_4_data = phase_label_data['phase_4_name']\n",
    "phase_4_data.columns = 'phase4'\n",
    "\n",
    "phase_5_data = phase_label_data['phase_5_name']\n",
    "phase_5_data.columns = 'phase5'\n",
    "    \n",
    "def binarizer(label_data):\n",
    "    binarized_data = lb.transform(label_data)\n",
    "    df_binarized_labels = pd.DataFrame(binarized_data, columns=[lb.classes_])\n",
    "    return pd.concat([label_data, df_binarized_labels], axis = 1)\n",
    "\n",
    "phase_1_data_enc = binarizer(phase_1_data)\n",
    "phase_2_data_enc = binarizer(phase_2_data)\n",
    "phase_3_data_enc = binarizer(phase_3_data)\n",
    "phase_4_data_enc = binarizer(phase_4_data)\n",
    "phase_5_data_enc = binarizer(phase_5_data)\n",
    "\n",
    "full_encoded_labels = phase_1_data_enc + phase_2_data_enc + phase_3_data_enc + phase_4_data_enc + phase_5_data_enc\n",
    "\n",
    "full_encoded_labels = full_encoded_labels.drop(['phase_1_name', 'phase_2_name', 'phase_3_name', 'phase_4_name', 'phase_5_name'], axis = 1)"
   ]
  },
  {
   "cell_type": "code",
   "execution_count": 9,
   "metadata": {
    "execution": {
     "iopub.execute_input": "2022-01-20T13:38:07.740440Z",
     "iopub.status.busy": "2022-01-20T13:38:07.739106Z",
     "iopub.status.idle": "2022-01-20T13:38:07.875713Z",
     "shell.execute_reply": "2022-01-20T13:38:07.874348Z"
    }
   },
   "outputs": [],
   "source": [
    "# There's no point in anything being greater than 1 to indicate the presence of a phase\n",
    "full_encoded_labels[full_encoded_labels != 0] = 1 "
   ]
  },
  {
   "cell_type": "code",
   "execution_count": 10,
   "metadata": {
    "execution": {
     "iopub.execute_input": "2022-01-20T13:38:07.887980Z",
     "iopub.status.busy": "2022-01-20T13:38:07.886734Z",
     "iopub.status.idle": "2022-01-20T13:38:08.029766Z",
     "shell.execute_reply": "2022-01-20T13:38:08.030698Z"
    }
   },
   "outputs": [
    {
     "data": {
      "text/html": [
       "<div>\n",
       "<style scoped>\n",
       "    .dataframe tbody tr th:only-of-type {\n",
       "        vertical-align: middle;\n",
       "    }\n",
       "\n",
       "    .dataframe tbody tr th {\n",
       "        vertical-align: top;\n",
       "    }\n",
       "\n",
       "    .dataframe thead th {\n",
       "        text-align: right;\n",
       "    }\n",
       "</style>\n",
       "<table border=\"1\" class=\"dataframe\">\n",
       "  <thead>\n",
       "    <tr style=\"text-align: right;\">\n",
       "      <th></th>\n",
       "      <th>AL</th>\n",
       "      <th>CR</th>\n",
       "      <th>FE</th>\n",
       "      <th>MN</th>\n",
       "      <th>MO</th>\n",
       "      <th>NB</th>\n",
       "      <th>NI</th>\n",
       "      <th>TA</th>\n",
       "      <th>TI</th>\n",
       "      <th>V</th>\n",
       "      <th>...</th>\n",
       "      <th>(FCC_A1,)</th>\n",
       "      <th>(FETI,)</th>\n",
       "      <th>(HCP_A3,)</th>\n",
       "      <th>(LAVES_C14,)</th>\n",
       "      <th>(LAVES_C15,)</th>\n",
       "      <th>(LIQUID,)</th>\n",
       "      <th>(NI2V,)</th>\n",
       "      <th>(NI2V7,)</th>\n",
       "      <th>(NI3V,)</th>\n",
       "      <th>(SIGMA,)</th>\n",
       "    </tr>\n",
       "  </thead>\n",
       "  <tbody>\n",
       "    <tr>\n",
       "      <th>0</th>\n",
       "      <td>0.9</td>\n",
       "      <td>0.0</td>\n",
       "      <td>0.0</td>\n",
       "      <td>0.0</td>\n",
       "      <td>0.0</td>\n",
       "      <td>0.0</td>\n",
       "      <td>0.0</td>\n",
       "      <td>0.0</td>\n",
       "      <td>0.1</td>\n",
       "      <td>0.0</td>\n",
       "      <td>...</td>\n",
       "      <td>0</td>\n",
       "      <td>0</td>\n",
       "      <td>0</td>\n",
       "      <td>0</td>\n",
       "      <td>0</td>\n",
       "      <td>1</td>\n",
       "      <td>0</td>\n",
       "      <td>0</td>\n",
       "      <td>0</td>\n",
       "      <td>0</td>\n",
       "    </tr>\n",
       "    <tr>\n",
       "      <th>1</th>\n",
       "      <td>0.8</td>\n",
       "      <td>0.0</td>\n",
       "      <td>0.0</td>\n",
       "      <td>0.0</td>\n",
       "      <td>0.0</td>\n",
       "      <td>0.0</td>\n",
       "      <td>0.0</td>\n",
       "      <td>0.0</td>\n",
       "      <td>0.2</td>\n",
       "      <td>0.0</td>\n",
       "      <td>...</td>\n",
       "      <td>0</td>\n",
       "      <td>0</td>\n",
       "      <td>0</td>\n",
       "      <td>0</td>\n",
       "      <td>0</td>\n",
       "      <td>1</td>\n",
       "      <td>0</td>\n",
       "      <td>0</td>\n",
       "      <td>0</td>\n",
       "      <td>0</td>\n",
       "    </tr>\n",
       "  </tbody>\n",
       "</table>\n",
       "<p>2 rows × 49 columns</p>\n",
       "</div>"
      ],
      "text/plain": [
       "    AL   CR   FE   MN   MO   NB   NI   TA   TI    V  ...  (FCC_A1,)  (FETI,)  \\\n",
       "0  0.9  0.0  0.0  0.0  0.0  0.0  0.0  0.0  0.1  0.0  ...          0        0   \n",
       "1  0.8  0.0  0.0  0.0  0.0  0.0  0.0  0.0  0.2  0.0  ...          0        0   \n",
       "\n",
       "   (HCP_A3,)  (LAVES_C14,)  (LAVES_C15,)  (LIQUID,)  (NI2V,)  (NI2V7,)  \\\n",
       "0          0             0             0          1        0         0   \n",
       "1          0             0             0          1        0         0   \n",
       "\n",
       "   (NI3V,)  (SIGMA,)  \n",
       "0        0         0  \n",
       "1        0         0  \n",
       "\n",
       "[2 rows x 49 columns]"
      ]
     },
     "execution_count": 1,
     "metadata": {},
     "output_type": "execute_result"
    }
   ],
   "source": [
    "workable_dataset = pd.concat([rearranged_features, full_encoded_labels], axis = 1)\n",
    "workable_dataset = workable_dataset.iloc[:, :-1]#no need for the 'none,' column, which is leftover from the encoding when there isn't a 4th or 5th phase\n",
    "workable_dataset.head(2)"
   ]
  },
  {
   "cell_type": "code",
   "execution_count": 11,
   "metadata": {
    "execution": {
     "iopub.execute_input": "2022-01-20T13:38:08.044118Z",
     "iopub.status.busy": "2022-01-20T13:38:08.042924Z",
     "iopub.status.idle": "2022-01-20T13:38:08.148823Z",
     "shell.execute_reply": "2022-01-20T13:38:08.147545Z"
    }
   },
   "outputs": [],
   "source": [
    "train_set, test_set = train_test_split(workable_dataset, test_size = 0.2, random_state=42)\n",
    "X_train_set = train_set.iloc[:, 0:10]\n",
    "y_train_set = train_set.iloc[:, 10:49]"
   ]
  },
  {
   "cell_type": "code",
   "execution_count": 12,
   "metadata": {
    "execution": {
     "iopub.execute_input": "2022-01-20T13:38:08.213566Z",
     "iopub.status.busy": "2022-01-20T13:38:08.160229Z",
     "iopub.status.idle": "2022-01-20T13:38:08.385877Z",
     "shell.execute_reply": "2022-01-20T13:38:08.384652Z"
    }
   },
   "outputs": [
    {
     "data": {
      "text/plain": [
       "<TensorSliceDataset shapes: ((10,), (39,)), types: (tf.float64, tf.int64)>"
      ]
     },
     "execution_count": 1,
     "metadata": {},
     "output_type": "execute_result"
    }
   ],
   "source": [
    "full_dataset = tf.data.Dataset.from_tensor_slices((X_train_set.values, y_train_set.values))\n",
    "full_dataset"
   ]
  },
  {
   "cell_type": "code",
   "execution_count": 13,
   "metadata": {
    "execution": {
     "iopub.execute_input": "2022-01-20T13:38:08.396149Z",
     "iopub.status.busy": "2022-01-20T13:38:08.394982Z",
     "iopub.status.idle": "2022-01-20T13:38:08.404923Z",
     "shell.execute_reply": "2022-01-20T13:38:08.403634Z"
    }
   },
   "outputs": [
    {
     "data": {
      "text/plain": [
       "<BatchDataset shapes: ((None, 10), (None, 39)), types: (tf.float64, tf.int64)>"
      ]
     },
     "execution_count": 1,
     "metadata": {},
     "output_type": "execute_result"
    }
   ],
   "source": [
    "batched_dataset = full_dataset.batch(5000)\n",
    "batched_dataset"
   ]
  },
  {
   "cell_type": "markdown",
   "metadata": {},
   "source": [
    "## Training the Neural Network\n",
    "\n",
    "Considering how bare-bones this dataset is I would be pretty impressed to get accuracies above 70%. Phase stability calculations usually take into account a lot more information than just the amount of each element available. The CALPHAD (CALculation of PHAse Diagrams) methodology uses literally all thermodynamic and kinetic information available to produce a phase diagram of multicomponent alloy systems. Meanwhile I just know the elements and their respective amounts in my hypothetical multicomponent system."
   ]
  },
  {
   "cell_type": "code",
   "execution_count": 14,
   "metadata": {
    "execution": {
     "iopub.execute_input": "2022-01-20T13:38:08.415529Z",
     "iopub.status.busy": "2022-01-20T13:38:08.414312Z",
     "iopub.status.idle": "2022-01-20T13:38:08.420524Z",
     "shell.execute_reply": "2022-01-20T13:38:08.419290Z"
    }
   },
   "outputs": [],
   "source": [
    "# NN with 1 hidden layer with 100 neurons\n",
    "\n",
    "def get_1layer_model():\n",
    "  model = tf.keras.Sequential([\n",
    "    tf.keras.layers.Dense(100, input_dim=10, activation='relu'),\n",
    "    tf.keras.layers.Dense(39, activation='sigmoid'),\n",
    "  ])\n",
    "\n",
    "  model.compile(loss=\"binary_crossentropy\", optimizer=\"sgd\", metrics=[\"accuracy\"])\n",
    "  return model"
   ]
  },
  {
   "cell_type": "code",
   "execution_count": 15,
   "metadata": {
    "execution": {
     "iopub.execute_input": "2022-01-20T13:38:08.428798Z",
     "iopub.status.busy": "2022-01-20T13:38:08.427582Z",
     "iopub.status.idle": "2022-01-20T13:38:40.939381Z",
     "shell.execute_reply": "2022-01-20T13:38:40.937190Z"
    }
   },
   "outputs": [],
   "source": [
    "model = get_1layer_model()\n",
    "history = model.fit(batched_dataset, epochs = 80, verbose = 0)"
   ]
  },
  {
   "cell_type": "code",
   "execution_count": 16,
   "metadata": {
    "execution": {
     "iopub.execute_input": "2022-01-20T13:38:40.966818Z",
     "iopub.status.busy": "2022-01-20T13:38:40.964787Z",
     "iopub.status.idle": "2022-01-20T13:38:41.662500Z",
     "shell.execute_reply": "2022-01-20T13:38:41.661250Z"
    }
   },
   "outputs": [
    {
     "data": {
      "image/png": "[encoded data removed]",
      "text/plain": [
       "<Figure size 576x360 with 1 Axes>"
      ]
     },
     "metadata": {
      "needs_background": "light"
     },
     "output_type": "display_data"
    }
   ],
   "source": [
    "pd.DataFrame(history.history).plot(figsize=(8, 5))\n",
    "plt.grid(True)\n",
    "plt.gca().set_ylim(0,1) #setting vertical range from 0-1.0\n",
    "plt.xlabel('epochs')\n",
    "plt.show()"
   ]
  },
  {
   "cell_type": "code",
   "execution_count": 17,
   "metadata": {
    "execution": {
     "iopub.execute_input": "2022-01-20T13:38:41.691565Z",
     "iopub.status.busy": "2022-01-20T13:38:41.690311Z",
     "iopub.status.idle": "2022-01-20T13:38:42.263291Z",
     "shell.execute_reply": "2022-01-20T13:38:42.261361Z"
    }
   },
   "outputs": [
    {
     "name": "stdout",
     "output_type": "stream",
     "text": [
      "2/2 [==============================] - 0s 19ms/step - loss: 0.6373 - accuracy: 0.5980\n"
     ]
    },
    {
     "data": {
      "text/plain": [
       "[0.6373143196105957, 0.5980175137519836]"
      ]
     },
     "execution_count": 1,
     "metadata": {},
     "output_type": "execute_result"
    }
   ],
   "source": [
    "X_test = test_set.iloc[:,0:10]\n",
    "y_test = test_set.iloc[:,10:50]\n",
    "test_dataset = tf.data.Dataset.from_tensor_slices((X_test.values, y_test.values)).batch(5000)\n",
    "model.evaluate(test_dataset)"
   ]
  },
  {
   "cell_type": "code",
   "execution_count": 18,
   "metadata": {
    "execution": {
     "iopub.execute_input": "2022-01-20T13:38:42.276205Z",
     "iopub.status.busy": "2022-01-20T13:38:42.274390Z",
     "iopub.status.idle": "2022-01-20T13:38:42.289111Z",
     "shell.execute_reply": "2022-01-20T13:38:42.290928Z"
    }
   },
   "outputs": [],
   "source": [
    "# NN with 2 hidden layers, the first with 100 neurons and the second with 200 neurons\n",
    "\n",
    "def get_2layer_model():\n",
    "    model = tf.keras.Sequential([\n",
    "        tf.keras.layers.Dense(100, input_dim=10, activation='relu'),\n",
    "        tf.keras.layers.Dense(200, activation='relu'),\n",
    "        tf.keras.layers.Dense(39, activation='sigmoid')\n",
    "    ])\n",
    "    \n",
    "    model.compile(loss=\"binary_crossentropy\", optimizer=\"sgd\", metrics=[\"accuracy\"])\n",
    "    return model"
   ]
  },
  {
   "cell_type": "code",
   "execution_count": 19,
   "metadata": {
    "execution": {
     "iopub.execute_input": "2022-01-20T13:38:42.303314Z",
     "iopub.status.busy": "2022-01-20T13:38:42.301585Z",
     "iopub.status.idle": "2022-01-20T13:39:23.449295Z",
     "shell.execute_reply": "2022-01-20T13:39:23.451259Z"
    }
   },
   "outputs": [],
   "source": [
    "model2 = get_2layer_model()\n",
    "history2 = model2.fit(batched_dataset, epochs = 80, verbose = 0)"
   ]
  },
  {
   "cell_type": "code",
   "execution_count": 20,
   "metadata": {
    "execution": {
     "iopub.execute_input": "2022-01-20T13:39:23.485340Z",
     "iopub.status.busy": "2022-01-20T13:39:23.483535Z",
     "iopub.status.idle": "2022-01-20T13:39:24.078931Z",
     "shell.execute_reply": "2022-01-20T13:39:24.077899Z"
    }
   },
   "outputs": [
    {
     "data": {
      "image/png": "[encoded data removed]",
      "text/plain": [
       "<Figure size 576x360 with 1 Axes>"
      ]
     },
     "metadata": {
      "needs_background": "light"
     },
     "output_type": "display_data"
    }
   ],
   "source": [
    "pd.DataFrame(history2.history).plot(figsize=(8, 5))\n",
    "plt.grid(True)\n",
    "plt.gca().set_ylim(0,1) #setting vertical range from 0-1.0\n",
    "plt.xlabel('epochs')\n",
    "plt.show()"
   ]
  },
  {
   "cell_type": "code",
   "execution_count": 21,
   "metadata": {
    "execution": {
     "iopub.execute_input": "2022-01-20T13:39:24.089026Z",
     "iopub.status.busy": "2022-01-20T13:39:24.087786Z",
     "iopub.status.idle": "2022-01-20T13:39:24.221210Z",
     "shell.execute_reply": "2022-01-20T13:39:24.223040Z"
    }
   },
   "outputs": [
    {
     "name": "stdout",
     "output_type": "stream",
     "text": [
      "2/2 [==============================] - 0s 16ms/step - loss: 0.6373 - accuracy: 0.5980\n"
     ]
    },
    {
     "data": {
      "text/plain": [
       "[0.6373143196105957, 0.5980175137519836]"
      ]
     },
     "execution_count": 1,
     "metadata": {},
     "output_type": "execute_result"
    }
   ],
   "source": [
    "test_dataset = tf.data.Dataset.from_tensor_slices((X_test.values, y_test.values)).batch(5000)\n",
    "model.evaluate(test_dataset)"
   ]
  },
  {
   "cell_type": "markdown",
   "metadata": {},
   "source": [
    "## Hyperparameter Tuning\n",
    "\n",
    "Instead of spending all day guessing and testing the right hyperparameters, I can have sklearn explore the hyperparameter space (guess and test) for me. To do this, I wrap the Keras models in objects that emulate sklearn regressors. First, I create a build_model() function that builds and compiles a Keras model with a given set of hyperparameters. Second, I create a KerasRegressor based on the build_model() function. The KerasRegressor object is an implementation of the sklearn regressor API for Keras, which allows you to call fit()/score()/predict(), all the fun stuff you'd expect. Lastly, a randomized search (too many hyperparameters for grid search) is used to explore the hyperparameter space that includes the number of hidden layers, number of neurons, and the learning rate."
   ]
  },
  {
   "cell_type": "code",
   "execution_count": 22,
   "metadata": {
    "execution": {
     "iopub.execute_input": "2022-01-20T13:39:24.237962Z",
     "iopub.status.busy": "2022-01-20T13:39:24.236087Z",
     "iopub.status.idle": "2022-01-20T13:39:24.243188Z",
     "shell.execute_reply": "2022-01-20T13:39:24.241299Z"
    }
   },
   "outputs": [],
   "source": [
    "# Function to build and compile a Keras model\n",
    "def build_model(n_hidden=1, n_neurons=20, learning_rate=3e-3):\n",
    "    model = tf.keras.Sequential()\n",
    "    model.add(tf.keras.layers.InputLayer(input_shape=(10,)))\n",
    "    for layer in range(n_hidden):\n",
    "        model.add(tf.keras.layers.Dense(n_neurons, activation=\"relu\"))\n",
    "    model.add(tf.keras.layers.Dense(39, activation='sigmoid'))\n",
    "    optimizer = tf.keras.optimizers.SGD(learning_rate=learning_rate)\n",
    "    model.compile(loss=\"binary_crossentropy\", optimizer=optimizer, metrics=[\"accuracy\"])\n",
    "    return model"
   ]
  },
  {
   "cell_type": "code",
   "execution_count": 23,
   "metadata": {
    "execution": {
     "iopub.execute_input": "2022-01-20T13:39:24.252055Z",
     "iopub.status.busy": "2022-01-20T13:39:24.250254Z",
     "iopub.status.idle": "2022-01-20T13:39:24.255522Z",
     "shell.execute_reply": "2022-01-20T13:39:24.257272Z"
    }
   },
   "outputs": [],
   "source": [
    "keras_reg = keras.wrappers.scikit_learn.KerasRegressor(build_model)"
   ]
  },
  {
   "cell_type": "code",
   "execution_count": 24,
   "metadata": {
    "execution": {
     "iopub.execute_input": "2022-01-20T13:39:24.269670Z",
     "iopub.status.busy": "2022-01-20T13:39:24.267924Z",
     "iopub.status.idle": "2022-01-20T13:39:36.524265Z",
     "shell.execute_reply": "2022-01-20T13:39:36.522386Z"
    }
   },
   "outputs": [
    {
     "name": "stdout",
     "output_type": "stream",
     "text": [
      "Epoch 1/2\n",
      "1186/1186 [==============================] - 4s 4ms/step - loss: 0.6884 - accuracy: 0.0093\n",
      "Epoch 2/2\n",
      "1186/1186 [==============================] - 6s 5ms/step - loss: 0.6634 - accuracy: 0.1332\n"
     ]
    },
    {
     "data": {
      "text/plain": [
       "<tensorflow.python.keras.callbacks.History at 0x7f60242c8f10>"
      ]
     },
     "execution_count": 1,
     "metadata": {},
     "output_type": "execute_result"
    }
   ],
   "source": [
    "# Just make sure this works like it's supposed to\n",
    "keras_reg.fit(X_train_set.values, y_train_set.values, epochs=2, callbacks=[keras.callbacks.EarlyStopping(monitor = \"accuracy\", patience=10)])"
   ]
  },
  {
   "cell_type": "code",
   "execution_count": 25,
   "metadata": {
    "execution": {
     "iopub.execute_input": "2022-01-20T13:39:36.542205Z",
     "iopub.status.busy": "2022-01-20T13:39:36.536402Z",
     "iopub.status.idle": "2022-01-20T14:44:59.174858Z",
     "shell.execute_reply": "2022-01-20T14:44:59.177236Z"
    }
   },
   "outputs": [
    {
     "name": "stdout",
     "output_type": "stream",
     "text": [
      "396/396 [==============================] - 1s 3ms/step - loss: 8362.2617 - accuracy: 0.2538\n",
      "396/396 [==============================] - 1s 2ms/step - loss: 3180.6692 - accuracy: 0.7691\n",
      "396/396 [==============================] - 1s 2ms/step - loss: 1955.0480 - accuracy: 0.6923\n",
      "396/396 [==============================] - 1s 3ms/step - loss: 27.1915 - accuracy: 0.7570\n",
      "396/396 [==============================] - 1s 3ms/step - loss: 18.8101 - accuracy: 0.3289\n",
      "396/396 [==============================] - 2s 4ms/step - loss: 22.7433 - accuracy: 0.7619\n",
      "396/396 [==============================] - 1s 3ms/step - loss: 0.0221 - accuracy: 0.7995\n",
      "396/396 [==============================] - 1s 3ms/step - loss: 0.0165 - accuracy: 0.8152\n",
      "396/396 [==============================] - 1s 4ms/step - loss: 0.0192 - accuracy: 0.7957\n",
      "396/396 [==============================] - 1s 3ms/step - loss: 79.2387 - accuracy: 0.7657\n",
      "396/396 [==============================] - 1s 3ms/step - loss: 66.5586 - accuracy: 0.7662\n",
      "396/396 [==============================] - 1s 3ms/step - loss: 73.9458 - accuracy: 0.0808\n",
      "396/396 [==============================] - 1s 3ms/step - loss: 2478926.7500 - accuracy: 0.7657\n",
      "396/396 [==============================] - 1s 3ms/step - loss: 1672461.6250 - accuracy: 0.7662\n",
      "396/396 [==============================] - 2s 4ms/step - loss: 2626753.5000 - accuracy: 0.0020\n",
      "396/396 [==============================] - 2s 5ms/step - loss: 0.0464 - accuracy: 0.7575\n",
      "396/396 [==============================] - 2s 4ms/step - loss: 0.0468 - accuracy: 0.7580\n",
      "396/396 [==============================] - 2s 4ms/step - loss: 0.0468 - accuracy: 0.7599\n",
      "396/396 [==============================] - 1s 3ms/step - loss: 3.6552 - accuracy: 0.3597\n",
      "396/396 [==============================] - 1s 3ms/step - loss: 7.3316 - accuracy: 0.0314\n",
      "396/396 [==============================] - 1s 3ms/step - loss: 1.9949 - accuracy: 0.7656\n",
      "396/396 [==============================] - 2s 5ms/step - loss: 0.0138 - accuracy: 0.8068\n",
      "396/396 [==============================] - 1s 2ms/step - loss: 0.0146 - accuracy: 0.8121\n",
      "396/396 [==============================] - 1s 4ms/step - loss: 0.0140 - accuracy: 0.8174\n",
      "396/396 [==============================] - 2s 4ms/step - loss: 0.0791 - accuracy: 0.7657\n",
      "396/396 [==============================] - 2s 5ms/step - loss: 0.0945 - accuracy: 0.7662\n",
      "396/396 [==============================] - 1s 3ms/step - loss: 0.0824 - accuracy: 0.7668\n",
      "396/396 [==============================] - 1s 3ms/step - loss: 0.1714 - accuracy: 0.7657\n",
      "396/396 [==============================] - 2s 5ms/step - loss: 0.1933 - accuracy: 0.7662\n",
      "396/396 [==============================] - 2s 5ms/step - loss: 0.1182 - accuracy: 0.0357\n"
     ]
    },
    {
     "data": {
      "text/plain": [
       "RandomizedSearchCV(cv=3,\n",
       "                   estimator=<tensorflow.python.keras.wrappers.scikit_learn.KerasRegressor object at 0x7f604806f8b0>,\n",
       "                   param_distributions={'learning_rate': [1.00002303,\n",
       "                                                          1.59989481,\n",
       "                                                          2.55960445,\n",
       "                                                          4.09500358, 6.5514241,\n",
       "                                                          10.4813481,\n",
       "                                                          16.7686682,\n",
       "                                                          26.8274874,\n",
       "                                                          42.9201695,\n",
       "                                                          68.6661752,\n",
       "                                                          109.856127,\n",
       "                                                          175.754201,\n",
       "                                                          281.181759,\n",
       "                                                          449.850877, 719.69751,\n",
       "                                                          1151.4138, 1842.09853,\n",
       "                                                          2947.09602,\n",
       "                                                          4714.93505, 7543.2264,\n",
       "                                                          12068.0909,\n",
       "                                                          19307.2313,\n",
       "                                                          30888.8279,\n",
       "                                                          49417.7374,\n",
       "                                                          79061.3609,\n",
       "                                                          126486.948,\n",
       "                                                          202361.152,\n",
       "                                                          323749.101,\n",
       "                                                          517952.579,\n",
       "                                                          828650.561, ...],\n",
       "                                        'n_hidden': [0, 1, 2, 3],\n",
       "                                        'n_neurons': [20, 21, 22, 23, 24, 25,\n",
       "                                                      26, 27, 28, 29, 30, 31,\n",
       "                                                      32, 33, 34, 35, 36, 37,\n",
       "                                                      38, 39, 40, 41, 42, 43,\n",
       "                                                      44, 45, 46, 47, 48, 49, ...]})"
      ]
     },
     "execution_count": 1,
     "metadata": {},
     "output_type": "execute_result"
    }
   ],
   "source": [
    "from sklearn.model_selection import RandomizedSearchCV\n",
    "\n",
    "# There is a really annoying sklearn bug that prevents you from doing something like 'np.arange(2,200)' for\n",
    "# n_neurons or learning_rate\n",
    "\n",
    "param_distribs = {\n",
    "    \"n_hidden\": [0, 1, 2, 3],\n",
    "    \"n_neurons\": [20,  21,  22,  23,  24,  25,  26,  27,  28,  29,  30,  31,  32,\n",
    "        33,  34,  35,  36,  37,  38,  39,  40,  41,  42,  43,  44,  45,\n",
    "        46,  47,  48,  49,  50,  51,  52,  53,  54,  55,  56,  57,  58,\n",
    "        59,  60,  61,  62,  63,  64,  65,  66,  67,  68,  69,  70,  71,\n",
    "        72,  73,  74,  75,  76,  77,  78,  79,  80,  81,  82,  83,  84,\n",
    "        85,  86,  87,  88,  89,  90,  91,  92,  93,  94,  95,  96,  97,\n",
    "        98,  99, 100, 101, 102, 103, 104, 105, 106, 107, 108, 109, 110,\n",
    "       111, 112, 113, 114, 115, 116, 117, 118, 119, 120, 121, 122, 123,\n",
    "       124, 125, 126, 127, 128, 129, 130, 131, 132, 133, 134, 135, 136,\n",
    "       137, 138, 139, 140, 141, 142, 143, 144, 145, 146, 147, 148, 149,\n",
    "       150, 151, 152, 153, 154, 155, 156, 157, 158, 159, 160, 161, 162,\n",
    "       163, 164, 165, 166, 167, 168, 169, 170, 171, 172, 173, 174, 175,\n",
    "       176, 177, 178, 179, 180, 181, 182, 183, 184, 185, 186, 187, 188,\n",
    "       189, 190, 191, 192, 193, 194, 195, 196, 197, 198, 199],\n",
    "    \"learning_rate\": [1.00002303e+00, 1.59989481e+00, 2.55960445e+00, 4.09500358e+00,\n",
    "       6.55142410e+00, 1.04813481e+01, 1.67686682e+01, 2.68274874e+01,\n",
    "       4.29201695e+01, 6.86661752e+01, 1.09856127e+02, 1.75754201e+02,\n",
    "       2.81181759e+02, 4.49850877e+02, 7.19697510e+02, 1.15141380e+03,\n",
    "       1.84209853e+03, 2.94709602e+03, 4.71493505e+03, 7.54322640e+03,\n",
    "       1.20680909e+04, 1.93072313e+04, 3.08888279e+04, 4.94177374e+04,\n",
    "       7.90613609e+04, 1.26486948e+05, 2.02361152e+05, 3.23749101e+05,\n",
    "       5.17952579e+05, 8.28650561e+05, 1.32572320e+06, 2.12096883e+06,\n",
    "       3.39324888e+06, 5.42871626e+06, 8.68517496e+06, 1.38950464e+07,\n",
    "       2.22301006e+07, 3.55650036e+07, 5.68989544e+07, 9.10302456e+07,\n",
    "       1.45635464e+08, 2.32996057e+08, 3.72760598e+08, 5.96364013e+08,\n",
    "       9.54097718e+08, 1.52642084e+09, 2.44205654e+09, 3.90694361e+09,\n",
    "       6.25055486e+09, 1.00000000e+10]\n",
    "}\n",
    "\n",
    "rnd_search_cv = RandomizedSearchCV(keras_reg, param_distribs, n_iter=10, cv=3)\n",
    "rnd_search_cv.fit(X_train_set.values, y_train_set.values, epochs=100, verbose = 0, callbacks=[keras.callbacks.EarlyStopping(monitor = \"accuracy\", patience=10)])"
   ]
  },
  {
   "cell_type": "code",
   "execution_count": 26,
   "metadata": {
    "execution": {
     "iopub.execute_input": "2022-01-20T14:44:59.217590Z",
     "iopub.status.busy": "2022-01-20T14:44:59.216206Z",
     "iopub.status.idle": "2022-01-20T14:44:59.225690Z",
     "shell.execute_reply": "2022-01-20T14:44:59.224651Z"
    }
   },
   "outputs": [
    {
     "data": {
      "text/plain": [
       "{'n_neurons': 98, 'n_hidden': 1, 'learning_rate': 1.59989481}"
      ]
     },
     "execution_count": 1,
     "metadata": {},
     "output_type": "execute_result"
    }
   ],
   "source": [
    "rnd_search_cv.best_params_"
   ]
  },
  {
   "cell_type": "code",
   "execution_count": 27,
   "metadata": {
    "execution": {
     "iopub.execute_input": "2022-01-20T14:44:59.241386Z",
     "iopub.status.busy": "2022-01-20T14:44:59.240070Z",
     "iopub.status.idle": "2022-01-20T14:45:00.776153Z",
     "shell.execute_reply": "2022-01-20T14:45:00.774264Z"
    }
   },
   "outputs": [
    {
     "name": "stdout",
     "output_type": "stream",
     "text": [
      "297/297 [==============================] - 1s 3ms/step - loss: 0.0125 - accuracy: 0.8113\n"
     ]
    },
    {
     "data": {
      "text/plain": [
       "[0.012541096657514572, 0.8113465905189514]"
      ]
     },
     "execution_count": 1,
     "metadata": {},
     "output_type": "execute_result"
    }
   ],
   "source": [
    "best_model = rnd_search_cv.best_estimator_.model\n",
    "best_model.evaluate(X_test.values, y_test.values)"
   ]
  },
  {
   "cell_type": "code",
   "execution_count": null,
   "metadata": {},
   "outputs": [],
   "source": []
  }
 ],
 "metadata": {
  "kernelspec": {
   "display_name": "Python 3.8 (py38)",
   "language": "python",
   "name": "py38"
  },
  "language_info": {
   "codemirror_mode": {
    "name": "ipython",
    "version": 3
   },
   "file_extension": ".py",
   "mimetype": "text/x-python",
   "name": "python",
   "nbconvert_exporter": "python",
   "pygments_lexer": "ipython3",
   "version": "3.8.5"
  }
 },
 "nbformat": 4,
 "nbformat_minor": 4
}
